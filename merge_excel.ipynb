{
 "cells": [
  {
   "cell_type": "code",
   "execution_count": 1,
   "metadata": {},
   "outputs": [],
   "source": [
    "import pandas as pd\n",
    "import os\n",
    "import numpy as np"
   ]
  },
  {
   "cell_type": "code",
   "execution_count": 2,
   "metadata": {},
   "outputs": [],
   "source": [
    "folder_path = \"sopp\""
   ]
  },
  {
   "cell_type": "code",
   "execution_count": 3,
   "metadata": {},
   "outputs": [],
   "source": [
    "dfs = []\n",
    "\n",
    "for filename in os.listdir(folder_path):\n",
    "    if filename.endswith('.xlsx'):\n",
    "        file_path = os.path.join(folder_path, filename)\n",
    "\n",
    "        df = pd.read_excel(file_path, skiprows=2)\n",
    "\n",
    "        dfs.append(df)"
   ]
  },
  {
   "cell_type": "code",
   "execution_count": 4,
   "metadata": {},
   "outputs": [],
   "source": [
    "merged_df = pd.concat(dfs, ignore_index=True)"
   ]
  },
  {
   "cell_type": "code",
   "execution_count": 5,
   "metadata": {},
   "outputs": [],
   "source": [
    "df_draft = merged_df.copy()"
   ]
  },
  {
   "cell_type": "code",
   "execution_count": 6,
   "metadata": {},
   "outputs": [],
   "source": [
    "df_draft = df_draft[~df_draft['Artsnavn'].isin(['Sopp', 'soppriket'])]"
   ]
  },
  {
   "cell_type": "code",
   "execution_count": 7,
   "metadata": {},
   "outputs": [
    {
     "data": {
      "text/plain": [
       "5581"
      ]
     },
     "execution_count": 7,
     "metadata": {},
     "output_type": "execute_result"
    }
   ],
   "source": [
    "df_draft[\"Artsnavn\"].nunique()"
   ]
  },
  {
   "cell_type": "code",
   "execution_count": 8,
   "metadata": {},
   "outputs": [
    {
     "data": {
      "text/plain": [
       "[Index([     0,      1,      2,      3,      4,      5,      6,      7,      8,\n",
       "             9,\n",
       "        ...\n",
       "        118274, 118275, 118276, 118277, 118278, 118279, 118280, 118281, 118282,\n",
       "        118283],\n",
       "       dtype='int64', length=118275),\n",
       " Index([118284, 118285, 118286, 118287, 118288, 118289, 118290, 118291, 118292,\n",
       "        118293,\n",
       "        ...\n",
       "        236566, 236567, 236568, 236569, 236570, 236571, 236572, 236573, 236574,\n",
       "        236575],\n",
       "       dtype='int64', length=118274),\n",
       " Index([236576, 236577, 236578, 236579, 236580, 236581, 236582, 236583, 236584,\n",
       "        236585,\n",
       "        ...\n",
       "        354844, 354845, 354846, 354847, 354848, 354849, 354850, 354851, 354852,\n",
       "        354853],\n",
       "       dtype='int64', length=118274),\n",
       " Index([354854, 354855, 354856, 354857, 354858, 354859, 354860, 354861, 354862,\n",
       "        354863,\n",
       "        ...\n",
       "        473122, 473123, 473124, 473125, 473126, 473127, 473128, 473129, 473130,\n",
       "        473131],\n",
       "       dtype='int64', length=118274),\n",
       " Index([473132, 473133, 473134, 473135, 473136, 473137, 473138, 473139, 473140,\n",
       "        473141,\n",
       "        ...\n",
       "        591401, 591402, 591403, 591404, 591405, 591406, 591407, 591408, 591409,\n",
       "        591410],\n",
       "       dtype='int64', length=118274)]"
      ]
     },
     "execution_count": 8,
     "metadata": {},
     "output_type": "execute_result"
    }
   ],
   "source": [
    "split_indices = np.array_split(df_draft.index, 5)\n",
    "split_indices"
   ]
  },
  {
   "cell_type": "code",
   "execution_count": 9,
   "metadata": {},
   "outputs": [],
   "source": [
    "for i, indices in enumerate(split_indices):\n",
    "    df_part = df_draft.loc[indices]\n",
    "    df_part.to_csv(f'bronze/merged_shrooms_{i + 1}.csv', index=False)"
   ]
  }
 ],
 "metadata": {
  "kernelspec": {
   "display_name": "Python 3",
   "language": "python",
   "name": "python3"
  },
  "language_info": {
   "codemirror_mode": {
    "name": "ipython",
    "version": 3
   },
   "file_extension": ".py",
   "mimetype": "text/x-python",
   "name": "python",
   "nbconvert_exporter": "python",
   "pygments_lexer": "ipython3",
   "version": "3.10.6"
  }
 },
 "nbformat": 4,
 "nbformat_minor": 2
}
