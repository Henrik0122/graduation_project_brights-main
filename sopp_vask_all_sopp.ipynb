{
 "cells": [
  {
   "cell_type": "code",
   "execution_count": 16,
   "metadata": {},
   "outputs": [],
   "source": [
    "import pandas as pd"
   ]
  },
  {
   "cell_type": "code",
   "execution_count": 5,
   "metadata": {},
   "outputs": [
    {
     "name": "stderr",
     "output_type": "stream",
     "text": [
      "C:\\Users\\AdaKristineMoen\\AppData\\Local\\Temp\\ipykernel_21428\\1864135022.py:1: DtypeWarning: Columns (22,23) have mixed types. Specify dtype option on import or set low_memory=False.\n",
      "  df1 = pd.read_csv('bronze\\merged_shrooms_1.csv')\n",
      "C:\\Users\\AdaKristineMoen\\AppData\\Local\\Temp\\ipykernel_21428\\1864135022.py:2: DtypeWarning: Columns (11,12,13,22,23,26,28) have mixed types. Specify dtype option on import or set low_memory=False.\n",
      "  df2 = pd.read_csv('bronze\\merged_shrooms_2.csv')\n",
      "C:\\Users\\AdaKristineMoen\\AppData\\Local\\Temp\\ipykernel_21428\\1864135022.py:3: DtypeWarning: Columns (11,12,13,14,24,26,28,33,35,36,37,38) have mixed types. Specify dtype option on import or set low_memory=False.\n",
      "  df3 = pd.read_csv('bronze\\merged_shrooms_3.csv')\n",
      "C:\\Users\\AdaKristineMoen\\AppData\\Local\\Temp\\ipykernel_21428\\1864135022.py:4: DtypeWarning: Columns (11,12,13,22,26,28,33,38,50) have mixed types. Specify dtype option on import or set low_memory=False.\n",
      "  df4 = pd.read_csv('bronze\\merged_shrooms_4.csv')\n",
      "C:\\Users\\AdaKristineMoen\\AppData\\Local\\Temp\\ipykernel_21428\\1864135022.py:5: DtypeWarning: Columns (22,23) have mixed types. Specify dtype option on import or set low_memory=False.\n",
      "  df5 = pd.read_csv('bronze\\merged_shrooms_5.csv')\n"
     ]
    }
   ],
   "source": [
    "df1 = pd.read_csv('bronze\\merged_shrooms_1.csv')\n",
    "df2 = pd.read_csv('bronze\\merged_shrooms_2.csv')\n",
    "df3 = pd.read_csv('bronze\\merged_shrooms_3.csv')\n",
    "df4 = pd.read_csv('bronze\\merged_shrooms_4.csv')\n",
    "df5 = pd.read_csv('bronze\\merged_shrooms_5.csv')"
   ]
  },
  {
   "cell_type": "code",
   "execution_count": 6,
   "metadata": {},
   "outputs": [],
   "source": [
    "combined_df = pd.concat([df1, df2, df3, df4, df5], ignore_index=True)"
   ]
  },
  {
   "cell_type": "code",
   "execution_count": 8,
   "metadata": {},
   "outputs": [],
   "source": [
    "combined_df = combined_df[['Artsnavn','Vitenskapelig navn','Antall','Østkoordinat','Nordkoordinat', 'Fylke', 'Kommune','Startdato']]"
   ]
  },
  {
   "cell_type": "code",
   "execution_count": 13,
   "metadata": {},
   "outputs": [
    {
     "name": "stderr",
     "output_type": "stream",
     "text": [
      "C:\\Users\\AdaKristineMoen\\AppData\\Local\\Temp\\ipykernel_21428\\3367354937.py:1: SettingWithCopyWarning: \n",
      "A value is trying to be set on a copy of a slice from a DataFrame.\n",
      "Try using .loc[row_indexer,col_indexer] = value instead\n",
      "\n",
      "See the caveats in the documentation: https://pandas.pydata.org/pandas-docs/stable/user_guide/indexing.html#returning-a-view-versus-a-copy\n",
      "  combined_df['Antall'] = combined_df['Antall'].replace('-', 1)\n"
     ]
    }
   ],
   "source": [
    "combined_df['Antall'] = combined_df['Antall'].replace('-', 1)"
   ]
  },
  {
   "cell_type": "code",
   "execution_count": 18,
   "metadata": {},
   "outputs": [],
   "source": [
    "combined_df.to_csv('silver\\silver_sopp.csv', index=False)"
   ]
  }
 ],
 "metadata": {
  "kernelspec": {
   "display_name": "Python 3",
   "language": "python",
   "name": "python3"
  },
  "language_info": {
   "codemirror_mode": {
    "name": "ipython",
    "version": 3
   },
   "file_extension": ".py",
   "mimetype": "text/x-python",
   "name": "python",
   "nbconvert_exporter": "python",
   "pygments_lexer": "ipython3",
   "version": "3.11.5"
  }
 },
 "nbformat": 4,
 "nbformat_minor": 2
}
