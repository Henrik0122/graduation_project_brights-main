{
 "cells": [
  {
   "cell_type": "code",
   "execution_count": 1,
   "metadata": {},
   "outputs": [],
   "source": [
    "import os\n",
    "import requests"
   ]
  },
  {
   "cell_type": "code",
   "execution_count": 7,
   "metadata": {},
   "outputs": [],
   "source": [
    "def download_file(url, save_path):\n",
    "    response = requests.get(url, stream=True)\n",
    "    print(response.ok)\n",
    "    with open(save_path, 'wb') as file:\n",
    "        for chunk in response.iter_content(chunk_size=128):\n",
    "            file.write(chunk)"
   ]
  },
  {
   "cell_type": "code",
   "execution_count": 3,
   "metadata": {},
   "outputs": [],
   "source": [
    "base_download_url = 'https://www.artsobservasjoner.no/ViewSighting/DownloadSightings'\n",
    "page_number = 11  # Adjust this based on the page number you want to download\n",
    "download_url = f'{base_download_url}?pageSize=2000&pageNumber={page_number}&storedSearchCriterias=8233656'\n",
    "download_folder = 'excel_files'"
   ]
  },
  {
   "cell_type": "code",
   "execution_count": 9,
   "metadata": {},
   "outputs": [
    {
     "data": {
      "text/plain": [
       "'\\r\\n<!DOCTYPE html>\\r\\n<html dir=\"ltr\" lang=\"\\r\\n\\r\\n<!DOCTYPE html>\\r\\n\\r\\n<html xmlns=\"http://www.w3.org/1999/xhtml\">\\r\\n<head><title>\\r\\n\\t500\\r\\n</title>\\r\\n    <style>\\r\\n        body {\\r\\n            margin: 0;\\r\\n            padding: 0;\\r\\n            font-size: 12px;\\r\\n            line-height: 1.5;\\r\\n            color: #222;\\r\\n            font-family: \"Helvetica Neue\", Arial, Helvetica, sans-serif;\\r\\n        }\\r\\n\\r\\n        h1, h2, h3, h4, h5, h6 {\\r\\n            font-weight: normal;\\r\\n            color: #111;\\r\\n        }\\r\\n\\r\\n        h1 {\\r\\n            font-size: 3em;\\r\\n            line-height: 1;\\r\\n            margin-bottom: 0.5em;\\r\\n            margin-top: 0;\\r\\n        }\\r\\n\\r\\n        h2 {\\r\\n            font-size: 2em;\\r\\n            margin: 0 0 0.5em 0;\\r\\n            color: #333;\\r\\n        }\\r\\n\\r\\n        h3 {\\r\\n            font-size: 1.5em;\\r\\n            line-height: 1;\\r\\n            margin: 0 0 1em 0;\\r\\n        }\\r\\n\\r\\n        a {\\r\\n            color: #33618d;\\r\\n            text-decoration: underline;\\r\\n        }\\r\\n\\r\\n        .container {\\r\\n            display: block;\\r\\n            width: 950px;\\r\\n            margin: 0 auto;\\r\\n        }\\r\\n\\r\\n        .span-15 {\\r\\n            width: 590px;\\r\\n        }\\r\\n\\r\\n        #content {\\r\\n            background-color: #ffffff;\\r\\n            margin-bottom: 15px;\\r\\n        }\\r\\n\\r\\n        #errorpage {\\r\\n            position: relative;\\r\\n            padding: 30px;\\r\\n            min-height: 350px;\\r\\n            border: 2px solid salmon;\\r\\n            margin-top: 20px;\\r\\n        }\\r\\n\\r\\n            #errorpage img.errorimage {\\r\\n                position: absolute;\\r\\n                top: -16px;\\r\\n                right: -20px;\\r\\n            }\\r\\n    </style>\\r\\n</head>\\r\\n<body>\\r\\n    <div id=\"content\" class=\"container\">\\r\\n\\r\\n        <div id=\"errorpage\" class=\"clearfix showerrors\">\\r\\n\\r\\n            <img src=\"/Content/Images/error-page.jpg\" class=\"errorimage\" />\\r\\n\\r\\n            <div id=\"Div2\" class=\"span-15 clearfix\">\\r\\n                <h1><strong>En feil har oppstått !</strong></h1>\\r\\n                <h2>Det gikk rett vest, en feil har oppstått !</h2>\\r\\n                <h3>Klikk på lenken for å komme tilbake til Artsobservasjoner.</h3>\\r\\n                <a href=\"/\">Tilbake til Artsobservasjoner.</a>\\r\\n            </div>\\r\\n\\r\\n        </div>\\r\\n    </div>\\r\\n</body>\\r\\n</html>\\r\\n'"
      ]
     },
     "execution_count": 9,
     "metadata": {},
     "output_type": "execute_result"
    }
   ],
   "source": [
    "session = requests.Session()\n",
    "login_payload = {'username': 'mafl96@hotmail.com', 'password': 'FwBSzDNq1'}\n",
    "response = session.post('https://www.artsobservasjoner.no/Logon', data=login_payload)\n",
    "\n",
    "response.text"
   ]
  },
  {
   "cell_type": "code",
   "execution_count": 4,
   "metadata": {},
   "outputs": [],
   "source": [
    "os.makedirs(download_folder, exist_ok=True)"
   ]
  },
  {
   "cell_type": "code",
   "execution_count": 5,
   "metadata": {},
   "outputs": [],
   "source": [
    "file_name = f'sightings_page_{page_number}.xlsx'\n",
    "save_path = os.path.join(download_folder, file_name)"
   ]
  },
  {
   "cell_type": "code",
   "execution_count": 8,
   "metadata": {},
   "outputs": [
    {
     "name": "stdout",
     "output_type": "stream",
     "text": [
      "False\n"
     ]
    }
   ],
   "source": [
    "download_file(download_url, save_path)"
   ]
  }
 ],
 "metadata": {
  "kernelspec": {
   "display_name": "Python 3",
   "language": "python",
   "name": "python3"
  },
  "language_info": {
   "codemirror_mode": {
    "name": "ipython",
    "version": 3
   },
   "file_extension": ".py",
   "mimetype": "text/x-python",
   "name": "python",
   "nbconvert_exporter": "python",
   "pygments_lexer": "ipython3",
   "version": "3.10.6"
  }
 },
 "nbformat": 4,
 "nbformat_minor": 2
}
