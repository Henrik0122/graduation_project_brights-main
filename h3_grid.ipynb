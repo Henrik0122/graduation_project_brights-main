{
 "cells": [
  {
   "cell_type": "code",
   "execution_count": 3,
   "metadata": {},
   "outputs": [],
   "source": [
    "import pandas as pd\n",
    "import h3\n",
    "import folium"
   ]
  },
  {
   "cell_type": "code",
   "execution_count": 4,
   "metadata": {},
   "outputs": [
    {
     "name": "stderr",
     "output_type": "stream",
     "text": [
      "C:\\Users\\mafl9\\AppData\\Local\\Temp\\ipykernel_1872\\1778571956.py:1: DtypeWarning: Columns (12,13,14,23,24,25,27,29,51) have mixed types. Specify dtype option on import or set low_memory=False.\n",
      "  df = pd.read_csv(\"bronze\\merged_sopp.csv\")\n"
     ]
    },
    {
     "data": {
      "text/html": [
       "<div>\n",
       "<style scoped>\n",
       "    .dataframe tbody tr th:only-of-type {\n",
       "        vertical-align: middle;\n",
       "    }\n",
       "\n",
       "    .dataframe tbody tr th {\n",
       "        vertical-align: top;\n",
       "    }\n",
       "\n",
       "    .dataframe thead th {\n",
       "        text-align: right;\n",
       "    }\n",
       "</style>\n",
       "<table border=\"1\" class=\"dataframe\">\n",
       "  <thead>\n",
       "    <tr style=\"text-align: right;\">\n",
       "      <th></th>\n",
       "      <th>Østkoordinat</th>\n",
       "      <th>Nordkoordinat</th>\n",
       "    </tr>\n",
       "  </thead>\n",
       "  <tbody>\n",
       "    <tr>\n",
       "      <th>0</th>\n",
       "      <td>10.830053</td>\n",
       "      <td>59.863743</td>\n",
       "    </tr>\n",
       "    <tr>\n",
       "      <th>1</th>\n",
       "      <td>10.822157</td>\n",
       "      <td>59.872112</td>\n",
       "    </tr>\n",
       "    <tr>\n",
       "      <th>2</th>\n",
       "      <td>12.251898</td>\n",
       "      <td>64.023058</td>\n",
       "    </tr>\n",
       "    <tr>\n",
       "      <th>3</th>\n",
       "      <td>12.246454</td>\n",
       "      <td>64.018069</td>\n",
       "    </tr>\n",
       "    <tr>\n",
       "      <th>4</th>\n",
       "      <td>12.246669</td>\n",
       "      <td>64.020209</td>\n",
       "    </tr>\n",
       "    <tr>\n",
       "      <th>...</th>\n",
       "      <td>...</td>\n",
       "      <td>...</td>\n",
       "    </tr>\n",
       "    <tr>\n",
       "      <th>591366</th>\n",
       "      <td>10.825651</td>\n",
       "      <td>59.460626</td>\n",
       "    </tr>\n",
       "    <tr>\n",
       "      <th>591367</th>\n",
       "      <td>10.825651</td>\n",
       "      <td>59.460626</td>\n",
       "    </tr>\n",
       "    <tr>\n",
       "      <th>591368</th>\n",
       "      <td>10.828194</td>\n",
       "      <td>59.461941</td>\n",
       "    </tr>\n",
       "    <tr>\n",
       "      <th>591369</th>\n",
       "      <td>10.828391</td>\n",
       "      <td>59.462383</td>\n",
       "    </tr>\n",
       "    <tr>\n",
       "      <th>591370</th>\n",
       "      <td>10.828391</td>\n",
       "      <td>59.462383</td>\n",
       "    </tr>\n",
       "  </tbody>\n",
       "</table>\n",
       "<p>591371 rows × 2 columns</p>\n",
       "</div>"
      ],
      "text/plain": [
       "        Østkoordinat  Nordkoordinat\n",
       "0          10.830053      59.863743\n",
       "1          10.822157      59.872112\n",
       "2          12.251898      64.023058\n",
       "3          12.246454      64.018069\n",
       "4          12.246669      64.020209\n",
       "...              ...            ...\n",
       "591366     10.825651      59.460626\n",
       "591367     10.825651      59.460626\n",
       "591368     10.828194      59.461941\n",
       "591369     10.828391      59.462383\n",
       "591370     10.828391      59.462383\n",
       "\n",
       "[591371 rows x 2 columns]"
      ]
     },
     "metadata": {},
     "output_type": "display_data"
    }
   ],
   "source": [
    "df = pd.read_csv(\"bronze\\merged_sopp.csv\")\n",
    "display(df[[\"Østkoordinat\", \"Nordkoordinat\"]])"
   ]
  },
  {
   "cell_type": "code",
   "execution_count": 5,
   "metadata": {},
   "outputs": [],
   "source": [
    "def convert_to_h3(row):\n",
    "    h3_cell = h3.geo_to_h3(row['Østkoordinat'], row['Nordkoordinat'],4) \n",
    "    return h3_cell"
   ]
  },
  {
   "cell_type": "code",
   "execution_count": 6,
   "metadata": {},
   "outputs": [],
   "source": [
    "df['h3_cell'] = df.apply(convert_to_h3, axis=1)"
   ]
  },
  {
   "cell_type": "code",
   "execution_count": 7,
   "metadata": {},
   "outputs": [
    {
     "data": {
      "text/plain": [
       "0         84622e3ffffffff\n",
       "1         84622e3ffffffff\n",
       "2         8463411ffffffff\n",
       "3         8463411ffffffff\n",
       "4         8463411ffffffff\n",
       "               ...       \n",
       "591366    84622e7ffffffff\n",
       "591367    84622e7ffffffff\n",
       "591368    84622e7ffffffff\n",
       "591369    84622e7ffffffff\n",
       "591370    84622e7ffffffff\n",
       "Name: h3_cell, Length: 591371, dtype: object"
      ]
     },
     "metadata": {},
     "output_type": "display_data"
    }
   ],
   "source": [
    "display(df['h3_cell'])"
   ]
  },
  {
   "cell_type": "code",
   "execution_count": 8,
   "metadata": {},
   "outputs": [
    {
     "data": {
      "text/plain": [
       "691"
      ]
     },
     "execution_count": 8,
     "metadata": {},
     "output_type": "execute_result"
    }
   ],
   "source": [
    "df['h3_cell'].nunique()"
   ]
  },
  {
   "cell_type": "code",
   "execution_count": 9,
   "metadata": {},
   "outputs": [],
   "source": [
    "map_center = [df['Nordkoordinat'].mean(), df['Østkoordinat'].mean()]\n",
    "mymap = folium.Map(location=map_center, zoom_start=10)"
   ]
  },
  {
   "cell_type": "code",
   "execution_count": 10,
   "metadata": {},
   "outputs": [],
   "source": [
    "# Modify the loop for creating GeoJSON features\n",
    "geojson_features = []\n",
    "for h3_cell in df['h3_cell'].unique():\n",
    "    hexagon = h3.h3_to_geo_boundary(h3_cell, geo_json=True)\n",
    "    coordinates = [[coord[1], coord[0]] for coord in hexagon] \n",
    "    feature = {\n",
    "        'type': 'Feature',\n",
    "        'properties': {'h3_cell': h3_cell},\n",
    "        'geometry': {\n",
    "            'type': 'Polygon',\n",
    "            'coordinates': [coordinates]\n",
    "        }\n",
    "    }\n",
    "    geojson_features.append(feature)"
   ]
  },
  {
   "cell_type": "code",
   "execution_count": 11,
   "metadata": {},
   "outputs": [
    {
     "data": {
      "text/plain": [
       "<folium.features.GeoJson at 0x1bd1ca64610>"
      ]
     },
     "execution_count": 11,
     "metadata": {},
     "output_type": "execute_result"
    }
   ],
   "source": [
    "folium.GeoJson(\n",
    "    {'type': 'FeatureCollection', 'features': geojson_features},\n",
    "    name='h3_grid'\n",
    ").add_to(mymap)"
   ]
  },
  {
   "cell_type": "code",
   "execution_count": 12,
   "metadata": {},
   "outputs": [],
   "source": [
    "mymap.save('h3_map.html')"
   ]
  }
 ],
 "metadata": {
  "kernelspec": {
   "display_name": "Python 3",
   "language": "python",
   "name": "python3"
  },
  "language_info": {
   "codemirror_mode": {
    "name": "ipython",
    "version": 3
   },
   "file_extension": ".py",
   "mimetype": "text/x-python",
   "name": "python",
   "nbconvert_exporter": "python",
   "pygments_lexer": "ipython3",
   "version": "3.10.6"
  }
 },
 "nbformat": 4,
 "nbformat_minor": 2
}
